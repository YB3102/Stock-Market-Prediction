{
 "cells": [
  {
   "cell_type": "markdown",
   "id": "c56f68a4-4080-4d2f-9175-fc5a62898e95",
   "metadata": {},
   "source": [
    "## CSCI 4502 Project"
   ]
  },
  {
   "cell_type": "markdown",
   "id": "95c756f6-f233-42d3-94fc-e1d979b6884d",
   "metadata": {},
   "source": [
    "### Data Collection \n",
    "\n",
    "Collecting stock prices for companies in the S&P 500 list. \n",
    "Using yfinance api / library\n"
   ]
  },
  {
   "cell_type": "code",
   "execution_count": 2,
   "id": "8b117e00-b069-4200-9d36-216cf2e3a284",
   "metadata": {},
   "outputs": [],
   "source": [
    "import yfinance as yf\n",
    "import pandas as pd\n",
    "import requests\n"
   ]
  },
  {
   "cell_type": "code",
   "execution_count": 3,
   "id": "01c79333-2bfc-40dc-be7d-6687f6f66383",
   "metadata": {},
   "outputs": [],
   "source": [
    "financial_tickers = [\"PYPL\", \"BAC\", \"CI\", \"GS\"]\n",
    "\n",
    "tech_tickers = [\"TSLA\", \"NVDA\", \"INTC\", \"AMD\"]\n",
    "\n",
    "goods_tickers = [\"BA\", \"ADBE\", \"AMZN\", \"MRNA\"]"
   ]
  },
  {
   "cell_type": "code",
   "execution_count": null,
   "id": "00ffe3d9-7782-4369-96f4-7437eed3587f",
   "metadata": {},
   "outputs": [
    {
     "name": "stderr",
     "output_type": "stream",
     "text": [
      "[*********************100%***********************]  4 of 4 completed\n",
      "[*********************100%***********************]  4 of 4 completed\n",
      "[*********************100%***********************]  4 of 4 completed\n"
     ]
    }
   ],
   "source": [
    "start_date = '2023-01-01'\n",
    "end_date = '2024-12-08'\n",
    "\n",
    "financialdata = yf.download(financial_tickers, start=start_date, end=end_date, group_by='ticker')\n",
    "techdata = yf.download(tech_tickers, start=start_date, end=end_date, group_by='ticker')\n",
    "goodsdata = yf.download(goods_tickers, start=start_date, end=end_date, group_by='ticker')\n"
   ]
  },
  {
   "cell_type": "code",
   "execution_count": null,
   "id": "42c6d3de-7cad-476a-89bc-36708897b2e8",
   "metadata": {},
   "outputs": [],
   "source": [
    "financialdata.head()\n",
    "adj_close_data = financialdata.xs('Adj Close', level=1, axis=1)\n",
    "\n",
    "adj_close_data = adj_close_data.copy() \n",
    "adj_close_data.reset_index(inplace=True)\n",
    "\n",
    "adj_close_data['Date'] = pd.to_datetime(adj_close_data['Date']).dt.strftime('%Y%m%d')\n",
    "\n",
    "adj_close_data.set_index('Date', inplace=True)\n",
    "adj_close_data\n",
    "\n",
    "output_directory = 'financialStocks/'\n",
    "\n",
    "for ticker in adj_close_data.columns:\n",
    "    ticker_data = adj_close_data[[ticker]]\n",
    "    ticker_data.to_csv(f'{output_directory}{ticker}_yahoodata.csv')\n"
   ]
  },
  {
   "cell_type": "code",
   "execution_count": null,
   "id": "74f9c4bd",
   "metadata": {},
   "outputs": [],
   "source": [
    "goodsdata.head()\n",
    "\n",
    "adj_close_data = goodsdata.xs('Adj Close', level=1, axis=1)\n",
    "\n",
    "adj_close_data = adj_close_data.copy() \n",
    "\n",
    "adj_close_data.reset_index(inplace=True)\n",
    "\n",
    "adj_close_data['Date'] = pd.to_datetime(adj_close_data['Date']).dt.strftime('%Y%m%d')\n",
    "\n",
    "adj_close_data.set_index('Date', inplace=True)\n",
    "\n",
    "adj_close_data\n",
    "\n",
    "output_directory = 'consumerGoodsStocks/'\n",
    "\n",
    "for ticker in adj_close_data.columns:\n",
    "    ticker_data = adj_close_data[[ticker]]\n",
    "    ticker_data.to_csv(f'{output_directory}{ticker}_yahoodata.csv')\n"
   ]
  },
  {
   "cell_type": "code",
   "execution_count": null,
   "id": "4f6c608b",
   "metadata": {},
   "outputs": [],
   "source": [
    "techdata.head()\n",
    "\n",
    "adj_close_data = techdata.xs('Adj Close', level=1, axis=1)\n",
    "\n",
    "adj_close_data = adj_close_data.copy()\n",
    "adj_close_data.reset_index(inplace=True)\n",
    "\n",
    "adj_close_data['Date'] = pd.to_datetime(adj_close_data['Date']).dt.strftime('%Y%m%d')\n",
    "\n",
    "adj_close_data.set_index('Date', inplace=True)\n",
    "\n",
    "adj_close_data\n",
    "\n",
    "output_directory = 'techStocks/'\n",
    "\n",
    "for ticker in adj_close_data.columns:\n",
    "    ticker_data = adj_close_data[[ticker]]\n",
    "    ticker_data.to_csv(f'{output_directory}{ticker}_yahoodata.csv')\n"
   ]
  },
  {
   "cell_type": "markdown",
   "id": "7590dcc2-ec0f-473b-b31e-659db6a0d263",
   "metadata": {},
   "source": [
    "Testing Alpha Advantage API "
   ]
  },
  {
   "cell_type": "markdown",
   "id": "0c89bf95",
   "metadata": {},
   "source": []
  }
 ],
 "metadata": {
  "kernelspec": {
   "display_name": "Python 3",
   "language": "python",
   "name": "python3"
  },
  "language_info": {
   "codemirror_mode": {
    "name": "ipython",
    "version": 3
   },
   "file_extension": ".py",
   "mimetype": "text/x-python",
   "name": "python",
   "nbconvert_exporter": "python",
   "pygments_lexer": "ipython3",
   "version": "3.12.6"
  }
 },
 "nbformat": 4,
 "nbformat_minor": 5
}
