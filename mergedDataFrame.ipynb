{
 "cells": [
  {
   "cell_type": "code",
   "execution_count": null,
   "metadata": {},
   "outputs": [
    {
     "name": "stdout",
     "output_type": "stream",
     "text": [
      "DataFrames merged successfully and saved to 'ADBE_merged_data.csv'.\n"
     ]
    }
   ],
   "source": [
    "import pandas as pd\n",
    "stocks_df = pd.read_csv('consumerGoodsStocks/MRNA_stocks.csv')\n",
    "\n",
    "yahoodata_df = pd.read_csv('consumerGoodsStocks/MRNA_yahoodata.csv')\n",
    "\n",
    "stocks_df.rename(columns={'Published Date': 'Date'}, inplace=True)\n",
    "\n",
    "stocks_df['Date'] = stocks_df['Date'].astype(str)\n",
    "yahoodata_df['Date'] = yahoodata_df['Date'].astype(str)\n",
    "\n",
    "stocks_df['Date'] = stocks_df['Date'].str[:8]\n",
    "\n",
    "yahoodata_df = yahoodata_df[yahoodata_df['Date'].str.startswith('2024')]\n",
    "\n",
    "merged_df = pd.merge(stocks_df, yahoodata_df, on='Date', how='left')\n",
    "\n",
    "merged_df.rename(columns={'MRNA': 'Stock Price'}, inplace=True)\n",
    "\n",
    "\n",
    "print(\"DataFrames merged successfully and saved to 'ADBE_merged_data.csv'.\")\n"
   ]
  },
  {
   "cell_type": "code",
   "execution_count": null,
   "metadata": {},
   "outputs": [
    {
     "data": {
      "text/html": [
       "<div>\n",
       "<style scoped>\n",
       "    .dataframe tbody tr th:only-of-type {\n",
       "        vertical-align: middle;\n",
       "    }\n",
       "\n",
       "    .dataframe tbody tr th {\n",
       "        vertical-align: top;\n",
       "    }\n",
       "\n",
       "    .dataframe thead th {\n",
       "        text-align: right;\n",
       "    }\n",
       "</style>\n",
       "<table border=\"1\" class=\"dataframe\">\n",
       "  <thead>\n",
       "    <tr style=\"text-align: right;\">\n",
       "      <th></th>\n",
       "      <th>Ticker</th>\n",
       "      <th>Sentiment Score</th>\n",
       "      <th>Sentiment Label</th>\n",
       "      <th>Topic</th>\n",
       "      <th>Relevance Score</th>\n",
       "      <th>Stock Price</th>\n",
       "    </tr>\n",
       "    <tr>\n",
       "      <th>Date</th>\n",
       "      <th></th>\n",
       "      <th></th>\n",
       "      <th></th>\n",
       "      <th></th>\n",
       "      <th></th>\n",
       "      <th></th>\n",
       "    </tr>\n",
       "  </thead>\n",
       "  <tbody>\n",
       "    <tr>\n",
       "      <th>20241125</th>\n",
       "      <td>MRNA</td>\n",
       "      <td>0.384695</td>\n",
       "      <td>Bullish</td>\n",
       "      <td>Life Sciences</td>\n",
       "      <td>1.000000</td>\n",
       "      <td>43.660000</td>\n",
       "    </tr>\n",
       "    <tr>\n",
       "      <th>20241104</th>\n",
       "      <td>MRNA</td>\n",
       "      <td>0.384695</td>\n",
       "      <td>Bullish</td>\n",
       "      <td>Life Sciences</td>\n",
       "      <td>1.000000</td>\n",
       "      <td>53.540001</td>\n",
       "    </tr>\n",
       "    <tr>\n",
       "      <th>20241015</th>\n",
       "      <td>MRNA</td>\n",
       "      <td>0.384695</td>\n",
       "      <td>Bullish</td>\n",
       "      <td>Life Sciences</td>\n",
       "      <td>1.000000</td>\n",
       "      <td>57.310001</td>\n",
       "    </tr>\n",
       "    <tr>\n",
       "      <th>20240924</th>\n",
       "      <td>MRNA</td>\n",
       "      <td>0.384695</td>\n",
       "      <td>Bullish</td>\n",
       "      <td>Life Sciences</td>\n",
       "      <td>1.000000</td>\n",
       "      <td>63.939999</td>\n",
       "    </tr>\n",
       "    <tr>\n",
       "      <th>20240913</th>\n",
       "      <td>MRNA</td>\n",
       "      <td>0.384695</td>\n",
       "      <td>Bullish</td>\n",
       "      <td>Life Sciences</td>\n",
       "      <td>1.000000</td>\n",
       "      <td>68.279999</td>\n",
       "    </tr>\n",
       "    <tr>\n",
       "      <th>...</th>\n",
       "      <td>...</td>\n",
       "      <td>...</td>\n",
       "      <td>...</td>\n",
       "      <td>...</td>\n",
       "      <td>...</td>\n",
       "      <td>...</td>\n",
       "    </tr>\n",
       "    <tr>\n",
       "      <th>20240507</th>\n",
       "      <td>MRNA</td>\n",
       "      <td>-0.003021</td>\n",
       "      <td>Neutral</td>\n",
       "      <td>Life Sciences</td>\n",
       "      <td>0.500000</td>\n",
       "      <td>121.070000</td>\n",
       "    </tr>\n",
       "    <tr>\n",
       "      <th>20241104</th>\n",
       "      <td>MRNA</td>\n",
       "      <td>-0.027551</td>\n",
       "      <td>Neutral</td>\n",
       "      <td>Life Sciences</td>\n",
       "      <td>0.500000</td>\n",
       "      <td>53.540001</td>\n",
       "    </tr>\n",
       "    <tr>\n",
       "      <th>20240603</th>\n",
       "      <td>MRNA</td>\n",
       "      <td>0.034563</td>\n",
       "      <td>Neutral</td>\n",
       "      <td>Life Sciences</td>\n",
       "      <td>0.250000</td>\n",
       "      <td>147.820007</td>\n",
       "    </tr>\n",
       "    <tr>\n",
       "      <th>20240730</th>\n",
       "      <td>MRNA</td>\n",
       "      <td>0.068603</td>\n",
       "      <td>Neutral</td>\n",
       "      <td>Economy - Monetary</td>\n",
       "      <td>0.158519</td>\n",
       "      <td>118.839996</td>\n",
       "    </tr>\n",
       "    <tr>\n",
       "      <th>20241025</th>\n",
       "      <td>MRNA</td>\n",
       "      <td>0.002398</td>\n",
       "      <td>Neutral</td>\n",
       "      <td>Life Sciences</td>\n",
       "      <td>0.500000</td>\n",
       "      <td>53.090000</td>\n",
       "    </tr>\n",
       "  </tbody>\n",
       "</table>\n",
       "<p>703 rows × 6 columns</p>\n",
       "</div>"
      ],
      "text/plain": [
       "         Ticker  Sentiment Score Sentiment Label               Topic  \\\n",
       "Date                                                                   \n",
       "20241125   MRNA         0.384695         Bullish       Life Sciences   \n",
       "20241104   MRNA         0.384695         Bullish       Life Sciences   \n",
       "20241015   MRNA         0.384695         Bullish       Life Sciences   \n",
       "20240924   MRNA         0.384695         Bullish       Life Sciences   \n",
       "20240913   MRNA         0.384695         Bullish       Life Sciences   \n",
       "...         ...              ...             ...                 ...   \n",
       "20240507   MRNA        -0.003021         Neutral       Life Sciences   \n",
       "20241104   MRNA        -0.027551         Neutral       Life Sciences   \n",
       "20240603   MRNA         0.034563         Neutral       Life Sciences   \n",
       "20240730   MRNA         0.068603         Neutral  Economy - Monetary   \n",
       "20241025   MRNA         0.002398         Neutral       Life Sciences   \n",
       "\n",
       "          Relevance Score  Stock Price  \n",
       "Date                                    \n",
       "20241125         1.000000    43.660000  \n",
       "20241104         1.000000    53.540001  \n",
       "20241015         1.000000    57.310001  \n",
       "20240924         1.000000    63.939999  \n",
       "20240913         1.000000    68.279999  \n",
       "...                   ...          ...  \n",
       "20240507         0.500000   121.070000  \n",
       "20241104         0.500000    53.540001  \n",
       "20240603         0.250000   147.820007  \n",
       "20240730         0.158519   118.839996  \n",
       "20241025         0.500000    53.090000  \n",
       "\n",
       "[703 rows x 6 columns]"
      ]
     },
     "execution_count": 50,
     "metadata": {},
     "output_type": "execute_result"
    }
   ],
   "source": [
    "\n",
    "merged_df.set_index('Date', inplace=True)\n",
    "\n",
    "merged_df\n"
   ]
  },
  {
   "cell_type": "code",
   "execution_count": 51,
   "metadata": {},
   "outputs": [
    {
     "name": "stderr",
     "output_type": "stream",
     "text": [
      "C:\\Users\\yatha\\AppData\\Local\\Temp\\ipykernel_129108\\3753456005.py:1: FutureWarning: Series.fillna with 'method' is deprecated and will raise in a future version. Use obj.ffill() or obj.bfill() instead.\n",
      "  merged_df['Stock Price'] = merged_df['Stock Price'].fillna(method='bfill')\n"
     ]
    }
   ],
   "source": [
    "merged_df['Stock Price'] = merged_df['Stock Price'].fillna(method='bfill')"
   ]
  },
  {
   "cell_type": "code",
   "execution_count": 52,
   "metadata": {},
   "outputs": [],
   "source": [
    "merged_df.to_csv('consumerGoodsStocks/MRNA_merged_data.csv')"
   ]
  },
  {
   "cell_type": "code",
   "execution_count": null,
   "metadata": {},
   "outputs": [
    {
     "name": "stdout",
     "output_type": "stream",
     "text": [
      "Merged CSV saved to financialStocks/financialStocks_merged_data.csv\n"
     ]
    }
   ],
   "source": [
    "financial_tickers = [\"PYPL\", \"BAC\", \"CI\", \"GS\"]\n",
    "\n",
    "tech_tickers = [\"TSLA\", \"NVDA\", \"INTC\", \"AMD\"]\n",
    "\n",
    "goods_tickers = [\"BA\", \"ADBE\", \"AMZN\", \"MRNA\"]\n",
    "\n",
    "base = \"_merged_data.csv\"\n",
    "finance = \"financialStocks/financialStocks_merged_data.csv\"\n",
    "tech =\"techStocks/techStocks_merged_data.csv\"\n",
    "consume =\"consumerGoodsStocks/consumerGoodsStocks_merged_data.csv\"\n",
    "\n",
    "financial_df = []\n",
    "tech_df = []\n",
    "goods_df = []\n",
    "\n",
    "for ticker in financial_tickers:\n",
    "    file_name = \"financialStocks/\" + ticker + base\n",
    "    ticker_df = pd.read_csv(file_name)\n",
    "    financial_df.append(ticker_df)\n",
    "\n",
    "merged_df = pd.concat(financial_df, ignore_index=True)\n",
    "  \n",
    "merged_df.to_csv(finance, index=False)\n",
    "print(f\"Merged CSV saved to {finance}\")"
   ]
  },
  {
   "cell_type": "code",
   "execution_count": null,
   "metadata": {},
   "outputs": [
    {
     "name": "stdout",
     "output_type": "stream",
     "text": [
      "Merged CSV saved to techStocks/techStocks_merged_data.csv\n"
     ]
    }
   ],
   "source": [
    "for ticker in tech_tickers:\n",
    "    file_name = \"techStocks/\" + ticker + base\n",
    "    ticker_df = pd.read_csv(file_name)\n",
    "    tech_df.append(ticker_df)\n",
    "\n",
    "merged_df = pd.concat(tech_df, ignore_index=True)\n",
    "\n",
    "merged_df.to_csv(tech, index=False)\n",
    "print(f\"Merged CSV saved to {tech}\")"
   ]
  },
  {
   "cell_type": "code",
   "execution_count": null,
   "metadata": {},
   "outputs": [],
   "source": [
    "for ticker in goods_tickers:\n",
    "    file_name = \"consumerGoodsStocks/\" + ticker + base\n",
    "    ticker_df = pd.read_csv(file_name)\n",
    "    goods_df.append(ticker_df)\n",
    "\n",
    "merged_df = pd.concat(goods_df, ignore_index=True)\n",
    "   \n",
    "merged_df.to_csv(consume, index=False)\n",
    "print(f\"Merged CSV saved to {consume}\")"
   ]
  }
 ],
 "metadata": {
  "kernelspec": {
   "display_name": "Python 3",
   "language": "python",
   "name": "python3"
  },
  "language_info": {
   "codemirror_mode": {
    "name": "ipython",
    "version": 3
   },
   "file_extension": ".py",
   "mimetype": "text/x-python",
   "name": "python",
   "nbconvert_exporter": "python",
   "pygments_lexer": "ipython3",
   "version": "3.12.6"
  }
 },
 "nbformat": 4,
 "nbformat_minor": 2
}
